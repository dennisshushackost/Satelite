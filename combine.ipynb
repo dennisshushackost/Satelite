{
 "cells": [
  {
   "cell_type": "code",
   "execution_count": 2,
   "metadata": {},
   "outputs": [],
   "source": [
    "import geopandas as gpd\n",
    "\n",
    "path= \"/workspaces/Satelite/data/grid/CH_grid.gpkg\"\n",
    "grid = gpd.read_file(path)\n",
    "border = \"/workspaces/Satelite/data/borders.geojson\"\n",
    "border = gpd.read_file(border)\n",
    "simplified = \"/workspaces/Satelite/data/CH_simplified.gpkg\"\n",
    "simplified = gpd.read_file(simplified)"
   ]
  },
  {
   "cell_type": "code",
   "execution_count": 3,
   "metadata": {},
   "outputs": [],
   "source": [
    "# Ensure all data has the same CRS\n",
    "if grid.crs != border.crs:\n",
    "    border = border.to_crs(grid.crs)\n",
    "if simplified.crs != grid.crs:\n",
    "    simplified = simplified.to_crs(grid.crs)"
   ]
  },
  {
   "cell_type": "code",
   "execution_count": 12,
   "metadata": {},
   "outputs": [
    {
     "name": "stdout",
     "output_type": "stream",
     "text": [
      "Performing spatial join to find intersecting cells...\n"
     ]
    },
    {
     "name": "stderr",
     "output_type": "stream",
     "text": [
      "/home/tfuser/.local/lib/python3.8/site-packages/IPython/core/interactiveshell.py:3448: FutureWarning: The `op` parameter is deprecated and will be removed in a future release. Please use the `predicate` parameter instead.\n",
      "  if await self.run_code(code, result, async_=asy):\n"
     ]
    },
    {
     "name": "stdout",
     "output_type": "stream",
     "text": [
      "Number of intersecting cells: 6435\n",
      "Filtering cells that are fully within the border...\n",
      "Number of fully within cells: 5385\n",
      "Performing spatial join with simplified data...\n",
      "Number of joined cells with simplified data: 1904573\n",
      "Grouping joined cells by cell_id...\n",
      "Number of essential cells: 4157\n",
      "Number of essential cells after size filtering: 4157\n",
      "Saved essential grid cells.\n"
     ]
    }
   ],
   "source": [
    "import geopandas as gpd\n",
    "import numpy as np\n",
    "from shapely.geometry import box\n",
    "\n",
    "grid['cell_area'] = grid['geometry'].area\n",
    "\n",
    "# Perform spatial join between grid and border to find cells intersecting the border\n",
    "print('Performing spatial join to find intersecting cells...')\n",
    "joined = gpd.sjoin(grid, border, how='inner', op='intersects')\n",
    "print(f'Number of intersecting cells: {len(joined)}')\n",
    "\n",
    "# Filter out cells that are not fully within the border\n",
    "print('Filtering cells that are fully within the border...')\n",
    "fully_within_cells = joined[joined.apply(lambda row: border.contains(row.geometry).all(), axis=1)]\n",
    "print(f'Number of fully within cells: {len(fully_within_cells)}')\n",
    "\n",
    "# Reset index to avoid conflicts in spatial join\n",
    "fully_within_cells = fully_within_cells.reset_index(drop=True)\n",
    "simplified = simplified.reset_index(drop=True)\n",
    "\n",
    "# Drop index_left and index_right columns if they exist\n",
    "if 'index_left' in fully_within_cells.columns:\n",
    "    fully_within_cells = fully_within_cells.drop(columns=['index_left'])\n",
    "if 'index_right' in fully_within_cells.columns:\n",
    "    fully_within_cells = fully_within_cells.drop(columns=['index_right'])\n",
    "if 'index_left' in simplified.columns:\n",
    "    simplified = simplified.drop(columns=['index_left'])\n",
    "if 'index_right' in simplified.columns:\n",
    "    simplified = simplified.drop(columns=['index_right'])\n",
    "\n",
    "# Perform spatial join between fully within cells and simplified parcel data\n",
    "print('Performing spatial join with simplified data...')\n",
    "joined_simplified = gpd.sjoin(fully_within_cells, simplified, how='inner', predicate='intersects')\n",
    "print(f'Number of joined cells with simplified data: {len(joined_simplified)}')\n",
    "\n",
    "# Ensure 'area' from the simplified data is used for calculating coverage ratio\n",
    "print('Grouping joined cells by cell_id...')\n",
    "grouped = joined_simplified.groupby('cell_id').agg({\n",
    "    'geometry': 'first',\n",
    "    'area': 'sum',\n",
    "    'cell_area': 'first'\n",
    "}).reset_index()\n",
    "\n",
    "# Calculate the coverage ratio\n",
    "grouped['coverage_ratio'] = grouped['area'] / grouped['cell_area']\n",
    "\n",
    "# Filter essential cells based on coverage ratio\n",
    "non_essential_cells_threshold = 0.1  # Adjust based on your requirement\n",
    "essential_cells = grouped[grouped['coverage_ratio'] >= non_essential_cells_threshold]\n",
    "print(f'Number of essential cells: {len(essential_cells)}')\n",
    "\n",
    "# If there are essential cells, create the GeoDataFrame and save to file\n",
    "if not essential_cells.empty:\n",
    "    essential_cells['cell_id'] = np.arange(1, len(essential_cells) + 1)\n",
    "    essential_cells = gpd.GeoDataFrame(essential_cells, geometry='geometry', crs=grid.crs)\n",
    "    essential_cells.to_file(\"/workspaces/Satelite/data/grid/CH_essential_grid.gpkg\", driver=\"GPKG\")\n",
    "    print('Saved essential grid cells.')\n",
    "else:\n",
    "    print('No essential cells to save.')"
   ]
  },
  {
   "cell_type": "code",
   "execution_count": null,
   "metadata": {},
   "outputs": [],
   "source": []
  }
 ],
 "metadata": {
  "kernelspec": {
   "display_name": "Python 3",
   "language": "python",
   "name": "python3"
  },
  "language_info": {
   "codemirror_mode": {
    "name": "ipython",
    "version": 3
   },
   "file_extension": ".py",
   "mimetype": "text/x-python",
   "name": "python",
   "nbconvert_exporter": "python",
   "pygments_lexer": "ipython3",
   "version": "3.8.10"
  }
 },
 "nbformat": 4,
 "nbformat_minor": 2
}
