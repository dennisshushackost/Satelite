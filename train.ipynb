{
 "cells": [
  {
   "cell_type": "code",
   "execution_count": 6,
   "metadata": {},
   "outputs": [],
   "source": [
    "import tensorflow as tf\n",
    "path = \"/home/tfuser/project/Satelite/data/dataset/train\"\n",
    "data = tf.data.Dataset.load(path)"
   ]
  },
  {
   "cell_type": "code",
   "execution_count": 3,
   "metadata": {},
   "outputs": [
    {
     "ename": "NameError",
     "evalue": "name 'mixed_precision' is not defined",
     "output_type": "error",
     "traceback": [
      "\u001b[0;31m---------------------------------------------------------------------------\u001b[0m",
      "\u001b[0;31mNameError\u001b[0m                                 Traceback (most recent call last)",
      "Cell \u001b[0;32mIn[3], line 24\u001b[0m\n\u001b[1;32m     20\u001b[0m train_data \u001b[38;5;241m=\u001b[39m LoadandAugment(train_path, \u001b[38;5;124m\"\u001b[39m\u001b[38;5;124mtrain\u001b[39m\u001b[38;5;124m\"\u001b[39m, \u001b[38;5;241m8\u001b[39m)\n\u001b[1;32m     21\u001b[0m val_data \u001b[38;5;241m=\u001b[39m LoadandAugment(val_path, \u001b[38;5;124m\"\u001b[39m\u001b[38;5;124mval\u001b[39m\u001b[38;5;124m\"\u001b[39m, \u001b[38;5;241m8\u001b[39m)\n\u001b[0;32m---> 24\u001b[0m policy \u001b[38;5;241m=\u001b[39m \u001b[43mmixed_precision\u001b[49m\u001b[38;5;241m.\u001b[39mPolicy(\u001b[38;5;124m'\u001b[39m\u001b[38;5;124mmixed_float16\u001b[39m\u001b[38;5;124m'\u001b[39m)\n\u001b[1;32m     25\u001b[0m mixed_precision\u001b[38;5;241m.\u001b[39mset_policy(policy)\n\u001b[1;32m     27\u001b[0m unet \u001b[38;5;241m=\u001b[39m UNET(input_shape\u001b[38;5;241m=\u001b[39m(\u001b[38;5;241m1024\u001b[39m, \u001b[38;5;241m1024\u001b[39m, \u001b[38;5;241m4\u001b[39m))\n",
      "\u001b[0;31mNameError\u001b[0m: name 'mixed_precision' is not defined"
     ]
    }
   ],
   "source": [
    "import os\n",
    "os.environ['TF_CPP_MIN_LOG_LEVEL'] = '3'\n",
    "os.environ['TF_FORCE_GPU_ALLOW_GROWTH'] = 'true'\n",
    "from scipy.ndimage import gaussian_filter\n",
    "import tensorflow as tf\n",
    "from pathlib import Path\n",
    "import numpy as np\n",
    "from helpers.UNET import UNET\n",
    "from helpers.load import LoadandAugment\n",
    "\n",
    "\n",
    "# Base path dataset: /home/tfuser/project/Satelite/data/dataset\n",
    "path = \"/home/tfuser/project/Satelite/data/dataset/\"\n",
    "train_path = path + \"train\"\n",
    "val_path = path + \"val\"\n",
    "test_path = path + \"test\"\n",
    "\n",
    "# Load and augment data\n",
    "# Initialize data loaders\n",
    "train_data = LoadandAugment(train_path, \"train\", 8)\n",
    "val_data = LoadandAugment(val_path, \"val\", 8)\n",
    "\n",
    "unet = UNET(input_shape=(1024, 1024, 4))\n",
    "unet.model.compile(optimizer='adam', loss='binary_crossentropy', metrics=['accuracy'])\n",
    "\n",
    "# Train the model\n",
    "unet.model.fit(train_data, validation_data=val_data, epochs=2)"
   ]
  },
  {
   "cell_type": "code",
   "execution_count": null,
   "metadata": {},
   "outputs": [],
   "source": []
  }
 ],
 "metadata": {
  "kernelspec": {
   "display_name": "Python 3",
   "language": "python",
   "name": "python3"
  },
  "language_info": {
   "codemirror_mode": {
    "name": "ipython",
    "version": 3
   },
   "file_extension": ".py",
   "mimetype": "text/x-python",
   "name": "python",
   "nbconvert_exporter": "python",
   "pygments_lexer": "ipython3",
   "version": "3.11.0rc1"
  }
 },
 "nbformat": 4,
 "nbformat_minor": 2
}
