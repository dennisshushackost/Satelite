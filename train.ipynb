{
 "cells": [
  {
   "cell_type": "code",
   "execution_count": null,
   "metadata": {},
   "outputs": [],
   "source": [
    "path = \"/home/tfuser/project/Satelite/data/dataset/train\""
   ]
  },
  {
   "cell_type": "code",
   "execution_count": 4,
   "metadata": {},
   "outputs": [
    {
     "ename": "TypeError",
     "evalue": "TF_DATA_SnapshotMetadataFilePath(): incompatible function arguments. The following argument types are supported:\n    1. (arg0: str) -> str\n\nInvoked with: <_PrefetchDataset element_spec=(TensorSpec(shape=(None, 1024, 1024, 4), dtype=tf.float32, name=None), TensorSpec(shape=(None, 1024, 1024, 1), dtype=tf.uint8, name=None))>",
     "output_type": "error",
     "traceback": [
      "\u001b[0;31m---------------------------------------------------------------------------\u001b[0m",
      "\u001b[0;31mTypeError\u001b[0m                                 Traceback (most recent call last)",
      "Cell \u001b[0;32mIn[4], line 29\u001b[0m\n\u001b[1;32m     26\u001b[0m unet\u001b[38;5;241m.\u001b[39mmodel\u001b[38;5;241m.\u001b[39mcompile(optimizer\u001b[38;5;241m=\u001b[39m\u001b[38;5;124m'\u001b[39m\u001b[38;5;124madam\u001b[39m\u001b[38;5;124m'\u001b[39m, loss\u001b[38;5;241m=\u001b[39m\u001b[38;5;124m'\u001b[39m\u001b[38;5;124mbinary_crossentropy\u001b[39m\u001b[38;5;124m'\u001b[39m, metrics\u001b[38;5;241m=\u001b[39m[\u001b[38;5;124m'\u001b[39m\u001b[38;5;124maccuracy\u001b[39m\u001b[38;5;124m'\u001b[39m])\n\u001b[1;32m     28\u001b[0m \u001b[38;5;66;03m# Train model\u001b[39;00m\n\u001b[0;32m---> 29\u001b[0m unet\u001b[38;5;241m.\u001b[39mmodel\u001b[38;5;241m.\u001b[39mfit(\u001b[43mtrain_data\u001b[49m\u001b[38;5;241;43m.\u001b[39;49m\u001b[43mload_and_augment\u001b[49m\u001b[43m(\u001b[49m\u001b[43m)\u001b[49m, validation_data\u001b[38;5;241m=\u001b[39mval_path\u001b[38;5;241m.\u001b[39mload_and_augment(), epochs\u001b[38;5;241m=\u001b[39m\u001b[38;5;241m10\u001b[39m)\n",
      "File \u001b[0;32m~/project/Satelite/helpers/load.py:121\u001b[0m, in \u001b[0;36mLoadandAugment.load_and_augment\u001b[0;34m(self)\u001b[0m\n\u001b[1;32m    118\u001b[0m \u001b[38;5;28;01mdef\u001b[39;00m \u001b[38;5;21mload_and_augment\u001b[39m(\u001b[38;5;28mself\u001b[39m):\n\u001b[1;32m    119\u001b[0m                     \n\u001b[1;32m    120\u001b[0m     \u001b[38;5;66;03m# Shuffle the dataset\u001b[39;00m\n\u001b[0;32m--> 121\u001b[0m     \u001b[38;5;28mself\u001b[39m\u001b[38;5;241m.\u001b[39mdataset \u001b[38;5;241m=\u001b[39m \u001b[43mtf\u001b[49m\u001b[38;5;241;43m.\u001b[39;49m\u001b[43mdata\u001b[49m\u001b[38;5;241;43m.\u001b[39;49m\u001b[43mDataset\u001b[49m\u001b[38;5;241;43m.\u001b[39;49m\u001b[43mload\u001b[49m\u001b[43m(\u001b[49m\u001b[38;5;28;43mself\u001b[39;49m\u001b[38;5;241;43m.\u001b[39;49m\u001b[43mdataset\u001b[49m\u001b[43m)\u001b[49m\u001b[38;5;241m.\u001b[39mshuffle(\u001b[38;5;241m1000\u001b[39m)\u001b[38;5;241m.\u001b[39mcache()\n\u001b[1;32m    122\u001b[0m     \u001b[38;5;66;03m# Map the training dataset with augmentation\u001b[39;00m\n\u001b[1;32m    123\u001b[0m     \u001b[38;5;28;01mif\u001b[39;00m \u001b[38;5;28mself\u001b[39m\u001b[38;5;241m.\u001b[39mdata_type \u001b[38;5;241m==\u001b[39m \u001b[38;5;124m'\u001b[39m\u001b[38;5;124mtrain\u001b[39m\u001b[38;5;124m'\u001b[39m:\n",
      "File \u001b[0;32m/usr/local/lib/python3.11/dist-packages/tensorflow/python/data/ops/dataset_ops.py:1828\u001b[0m, in \u001b[0;36mDatasetV2.load\u001b[0;34m(path, element_spec, compression, reader_func)\u001b[0m\n\u001b[1;32m   1824\u001b[0m \u001b[38;5;66;03m# Loaded lazily due to a circular dependency (dataset_ops -> load_op ->\u001b[39;00m\n\u001b[1;32m   1825\u001b[0m \u001b[38;5;66;03m# dataset_ops).\u001b[39;00m\n\u001b[1;32m   1826\u001b[0m \u001b[38;5;66;03m# pylint: disable=g-import-not-at-top,protected-access\u001b[39;00m\n\u001b[1;32m   1827\u001b[0m \u001b[38;5;28;01mfrom\u001b[39;00m \u001b[38;5;21;01mtensorflow\u001b[39;00m\u001b[38;5;21;01m.\u001b[39;00m\u001b[38;5;21;01mpython\u001b[39;00m\u001b[38;5;21;01m.\u001b[39;00m\u001b[38;5;21;01mdata\u001b[39;00m\u001b[38;5;21;01m.\u001b[39;00m\u001b[38;5;21;01mops\u001b[39;00m \u001b[38;5;28;01mimport\u001b[39;00m load_op\n\u001b[0;32m-> 1828\u001b[0m \u001b[38;5;28;01mreturn\u001b[39;00m \u001b[43mload_op\u001b[49m\u001b[38;5;241;43m.\u001b[39;49m\u001b[43m_load\u001b[49m\u001b[43m(\u001b[49m\n\u001b[1;32m   1829\u001b[0m \u001b[43m    \u001b[49m\u001b[43mpath\u001b[49m\u001b[38;5;241;43m=\u001b[39;49m\u001b[43mpath\u001b[49m\u001b[43m,\u001b[49m\n\u001b[1;32m   1830\u001b[0m \u001b[43m    \u001b[49m\u001b[43melement_spec\u001b[49m\u001b[38;5;241;43m=\u001b[39;49m\u001b[43melement_spec\u001b[49m\u001b[43m,\u001b[49m\n\u001b[1;32m   1831\u001b[0m \u001b[43m    \u001b[49m\u001b[43mcompression\u001b[49m\u001b[38;5;241;43m=\u001b[39;49m\u001b[43mcompression\u001b[49m\u001b[43m,\u001b[49m\n\u001b[1;32m   1832\u001b[0m \u001b[43m    \u001b[49m\u001b[43mreader_func\u001b[49m\u001b[38;5;241;43m=\u001b[39;49m\u001b[43mreader_func\u001b[49m\u001b[43m)\u001b[49m\n",
      "File \u001b[0;32m/usr/local/lib/python3.11/dist-packages/tensorflow/python/data/ops/load_op.py:56\u001b[0m, in \u001b[0;36m_load\u001b[0;34m(path, element_spec, compression, reader_func)\u001b[0m\n\u001b[1;32m     50\u001b[0m \u001b[38;5;28;01mif\u001b[39;00m reader_func \u001b[38;5;129;01mis\u001b[39;00m \u001b[38;5;28;01mNone\u001b[39;00m:\n\u001b[1;32m     51\u001b[0m   reader_func \u001b[38;5;241m=\u001b[39m \u001b[38;5;28;01mlambda\u001b[39;00m datasets: datasets\u001b[38;5;241m.\u001b[39minterleave(  \u001b[38;5;66;03m# pylint:disable=g-long-lambda\u001b[39;00m\n\u001b[1;32m     52\u001b[0m       \u001b[38;5;28;01mlambda\u001b[39;00m x: x,\n\u001b[1;32m     53\u001b[0m       cycle_length\u001b[38;5;241m=\u001b[39mmultiprocessing\u001b[38;5;241m.\u001b[39mcpu_count(),\n\u001b[1;32m     54\u001b[0m       num_parallel_calls\u001b[38;5;241m=\u001b[39mdataset_ops\u001b[38;5;241m.\u001b[39mAUTOTUNE)\n\u001b[0;32m---> 56\u001b[0m distributed_snapshot_metadata \u001b[38;5;241m=\u001b[39m \u001b[43m_load_distributed_snapshot_metadata\u001b[49m\u001b[43m(\u001b[49m\u001b[43mpath\u001b[49m\u001b[43m)\u001b[49m\n\u001b[1;32m     57\u001b[0m \u001b[38;5;28;01mif\u001b[39;00m distributed_snapshot_metadata:\n\u001b[1;32m     58\u001b[0m   _validate_snapshot(\n\u001b[1;32m     59\u001b[0m       path, distributed_snapshot_metadata, element_spec, compression)\n",
      "File \u001b[0;32m/usr/local/lib/python3.11/dist-packages/tensorflow/python/data/ops/load_op.py:107\u001b[0m, in \u001b[0;36m_load_distributed_snapshot_metadata\u001b[0;34m(path)\u001b[0m\n\u001b[1;32m     96\u001b[0m \u001b[38;5;250m\u001b[39m\u001b[38;5;124;03m\"\"\"Reads the distributed snapshot metadata.\u001b[39;00m\n\u001b[1;32m     97\u001b[0m \n\u001b[1;32m     98\u001b[0m \u001b[38;5;124;03mArgs:\u001b[39;00m\n\u001b[0;32m   (...)\u001b[0m\n\u001b[1;32m    103\u001b[0m \u001b[38;5;124;03m  Returns None if it is a non-distributed snapshot.\u001b[39;00m\n\u001b[1;32m    104\u001b[0m \u001b[38;5;124;03m\"\"\"\u001b[39;00m\n\u001b[1;32m    105\u001b[0m \u001b[38;5;28;01mtry\u001b[39;00m:\n\u001b[1;32m    106\u001b[0m   \u001b[38;5;28;01mwith\u001b[39;00m gfile\u001b[38;5;241m.\u001b[39mGFile(\n\u001b[0;32m--> 107\u001b[0m       \u001b[43m_pywrap_snapshot_utils\u001b[49m\u001b[38;5;241;43m.\u001b[39;49m\u001b[43mTF_DATA_SnapshotMetadataFilePath\u001b[49m\u001b[43m(\u001b[49m\u001b[43mpath\u001b[49m\u001b[43m)\u001b[49m, \u001b[38;5;124m\"\u001b[39m\u001b[38;5;124mr\u001b[39m\u001b[38;5;124m\"\u001b[39m\n\u001b[1;32m    108\u001b[0m   ) \u001b[38;5;28;01mas\u001b[39;00m f:\n\u001b[1;32m    109\u001b[0m     \u001b[38;5;28;01mreturn\u001b[39;00m text_format\u001b[38;5;241m.\u001b[39mParseLines(\n\u001b[1;32m    110\u001b[0m         f, snapshot_pb2\u001b[38;5;241m.\u001b[39mDistributedSnapshotMetadata())\n\u001b[1;32m    111\u001b[0m \u001b[38;5;28;01mexcept\u001b[39;00m (\n\u001b[1;32m    112\u001b[0m     errors\u001b[38;5;241m.\u001b[39mNotFoundError,\n\u001b[1;32m    113\u001b[0m     text_format\u001b[38;5;241m.\u001b[39mParseError,\n\u001b[1;32m    114\u001b[0m     message\u001b[38;5;241m.\u001b[39mDecodeError,\n\u001b[1;32m    115\u001b[0m     \u001b[38;5;167;01mUnicodeDecodeError\u001b[39;00m):\n",
      "\u001b[0;31mTypeError\u001b[0m: TF_DATA_SnapshotMetadataFilePath(): incompatible function arguments. The following argument types are supported:\n    1. (arg0: str) -> str\n\nInvoked with: <_PrefetchDataset element_spec=(TensorSpec(shape=(None, 1024, 1024, 4), dtype=tf.float32, name=None), TensorSpec(shape=(None, 1024, 1024, 1), dtype=tf.uint8, name=None))>"
     ]
    }
   ],
   "source": [
    "import os\n",
    "os.environ['TF_CPP_MIN_LOG_LEVEL'] = '3'\n",
    "os.environ['TF_FORCE_GPU_ALLOW_GROWTH'] = 'true'\n",
    "from scipy.ndimage import gaussian_filter\n",
    "import tensorflow as tf\n",
    "from pathlib import Path\n",
    "import numpy as np\n",
    "from helpers.UNET import UNET\n",
    "from helpers.load import LoadandAugment\n",
    "\n",
    "\n",
    "# Base path dataset: /home/tfuser/project/Satelite/data/dataset\n",
    "path = \"/home/tfuser/project/Satelite/data/dataset/\"\n",
    "train_path = path + \"train\"\n",
    "val_path = path + \"val\"\n",
    "test_path = path + \"test\"\n",
    "\n",
    "# Load and augment data\n",
    "train_data = LoadandAugment(dataset=train_path, data_type=\"train\", batch=30)\n",
    "val_path = LoadandAugment(dataset=val_path, data_type=\"val\", batch=30)\n",
    "test_path = LoadandAugment(dataset=test_path, data_type=\"test\", batch=30)\n",
    "\n",
    "# Load model\n",
    "# Load model\n",
    "unet = UNET(input_shape=(1024, 1024, 4))\n",
    "unet.model.compile(optimizer='adam', loss='binary_crossentropy', metrics=['accuracy'])\n",
    "\n",
    "# Train model\n",
    "unet.model.fit(train_data.load_and_augment(), validation_data=val_path.load_and_augment(), epochs=10)\n",
    "\n"
   ]
  },
  {
   "cell_type": "code",
   "execution_count": null,
   "metadata": {},
   "outputs": [],
   "source": []
  }
 ],
 "metadata": {
  "kernelspec": {
   "display_name": "Python 3",
   "language": "python",
   "name": "python3"
  },
  "language_info": {
   "codemirror_mode": {
    "name": "ipython",
    "version": 3
   },
   "file_extension": ".py",
   "mimetype": "text/x-python",
   "name": "python",
   "nbconvert_exporter": "python",
   "pygments_lexer": "ipython3",
   "version": "3.11.0rc1"
  }
 },
 "nbformat": 4,
 "nbformat_minor": 2
}
