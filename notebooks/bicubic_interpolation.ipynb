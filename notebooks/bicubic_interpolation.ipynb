{
 "cells": [
  {
   "cell_type": "markdown",
   "metadata": {},
   "source": []
  },
  {
   "cell_type": "code",
   "execution_count": null,
   "metadata": {},
   "outputs": [],
   "source": [
    "import geopandas as gpd\n",
    "\n",
    "# Load the data\n",
    "data = gpd.read_file(\"/workspaces/Satelite/data/cantons/AG.gpkg\")\n",
    "crs = data.crs\n",
    "\n",
    "data2 = \"/workspaces/Satelite/data/parcels/AG_parcel_1.gpkg\"\n",
    "data2 = gpd.read_file(data2)\n",
    "data2.crs = crs"
   ]
  },
  {
   "cell_type": "code",
   "execution_count": 45,
   "metadata": {},
   "outputs": [],
   "source": [
    "import numpy as np\n",
    "import rasterio\n",
    "\n",
    "def normalize_bands(src):\n",
    "    bands_normalized = []\n",
    "    for i in range(1, src.count + 1):\n",
    "        band = src.read(i)\n",
    "        p1, p99 = np.percentile(band, [1, 99])\n",
    "        band_normalized = np.clip((band - p1) / (p99 - p1), 0, 1)\n",
    "        bands_normalized.append(band_normalized)\n",
    "    return bands_normalized\n",
    "\n",
    "def process_and_save_normalized_image(input_path, output_path):\n",
    "    with rasterio.open(input_path, 'r') as src:\n",
    "        # Read and normalize all bands first\n",
    "        bands_normalized = normalize_bands(src)\n",
    "        \n",
    "        # Prepare new metadata for the output file\n",
    "        new_meta = src.meta.copy()\n",
    "        new_meta.update(dtype=rasterio.float32)\n",
    "\n",
    "        # Write the normalized data to a new output file\n",
    "        with rasterio.open(output_path, 'w', **new_meta) as dst:\n",
    "            for i, band in enumerate(bands_normalized, start=1):\n",
    "                dst.write(band, i)\n",
    "\n",
    "\n",
    "# Define the paths\n",
    "input_path = \"/workspaces/Satelite/data/satellite/aargau_parcel_53.tif\"\n",
    "output_path = \"/workspaces/Satelite/data/satellite/aargau_parcel_53_normalized.tif\"\n",
    "\n",
    "# Process and save the normalized image\n",
    "process_and_save_normalized_image(input_path, output_path)\n"
   ]
  },
  {
   "cell_type": "code",
   "execution_count": 4,
   "metadata": {
    "ExecuteTime": {
     "end_time": "2024-05-11T13:38:55.201199Z",
     "start_time": "2024-05-11T13:38:37.445059Z"
    }
   },
   "outputs": [
    {
     "data": {
      "text/plain": [
       "<tf.Tensor: shape=(), dtype=float32, numpy=0.03206544>"
      ]
     },
     "execution_count": 4,
     "metadata": {},
     "output_type": "execute_result"
    }
   ],
   "source": [
    "import tensorflow as tf\n",
    "tf.random.uniform(shape=(), minval=0.01, maxval=0.1)"
   ]
  },
  {
   "cell_type": "code",
   "execution_count": 5,
   "metadata": {
    "ExecuteTime": {
     "end_time": "2024-05-11T13:39:04.343793Z",
     "start_time": "2024-05-11T13:39:04.341327Z"
    }
   },
   "outputs": [
    {
     "name": "stdout",
     "output_type": "stream",
     "text": [
      "Hello world\n"
     ]
    }
   ],
   "source": [
    "print(\"Hello world\")"
   ]
  },
  {
   "cell_type": "code",
   "execution_count": null,
   "metadata": {},
   "outputs": [],
   "source": []
  }
 ],
 "metadata": {
  "kernelspec": {
   "display_name": "Python 3",
   "language": "python",
   "name": "python3"
  },
  "language_info": {
   "codemirror_mode": {
    "name": "ipython",
    "version": 3
   },
   "file_extension": ".py",
   "mimetype": "text/x-python",
   "name": "python",
   "nbconvert_exporter": "python",
   "pygments_lexer": "ipython3",
   "version": "3.8.10"
  }
 },
 "nbformat": 4,
 "nbformat_minor": 2
}
