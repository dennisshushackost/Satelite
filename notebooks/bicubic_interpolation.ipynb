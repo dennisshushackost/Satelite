{
 "cells": [
  {
   "cell_type": "markdown",
   "metadata": {},
   "source": []
  },
  {
   "cell_type": "code",
   "execution_count": 45,
   "metadata": {},
   "outputs": [],
   "source": [
    "import numpy as np\n",
    "import rasterio\n",
    "\n",
    "def normalize_bands(src):\n",
    "    bands_normalized = []\n",
    "    for i in range(1, src.count + 1):\n",
    "        band = src.read(i)\n",
    "        p1, p99 = np.percentile(band, [1, 99])\n",
    "        band_normalized = np.clip((band - p1) / (p99 - p1), 0, 1)\n",
    "        bands_normalized.append(band_normalized)\n",
    "    return bands_normalized\n",
    "\n",
    "def process_and_save_normalized_image(input_path, output_path):\n",
    "    with rasterio.open(input_path, 'r') as src:\n",
    "        # Read and normalize all bands first\n",
    "        bands_normalized = normalize_bands(src)\n",
    "        \n",
    "        # Prepare new metadata for the output file\n",
    "        new_meta = src.meta.copy()\n",
    "        new_meta.update(dtype=rasterio.float32)\n",
    "\n",
    "        # Write the normalized data to a new output file\n",
    "        with rasterio.open(output_path, 'w', **new_meta) as dst:\n",
    "            for i, band in enumerate(bands_normalized, start=1):\n",
    "                dst.write(band, i)\n",
    "\n",
    "# Define the paths\n",
    "input_path = \"/workspaces/Satelite/data/satellite/aargau_parcel_53.tif\"\n",
    "output_path = \"/workspaces/Satelite/data/satellite/aargau_parcel_53_normalized.tif\"\n",
    "\n",
    "# Process and save the normalized image\n",
    "process_and_save_normalized_image(input_path, output_path)\n"
   ]
  },
  {
   "cell_type": "code",
   "execution_count": null,
   "metadata": {},
   "outputs": [],
   "source": []
  },
  {
   "cell_type": "code",
   "execution_count": null,
   "metadata": {},
   "outputs": [],
   "source": []
  }
 ],
 "metadata": {
  "kernelspec": {
   "display_name": "Python 3",
   "language": "python",
   "name": "python3"
  },
  "language_info": {
   "codemirror_mode": {
    "name": "ipython",
    "version": 3
   },
   "file_extension": ".py",
   "mimetype": "text/x-python",
   "name": "python",
   "nbconvert_exporter": "python",
   "pygments_lexer": "ipython3",
   "version": "3.8.10"
  }
 },
 "nbformat": 4,
 "nbformat_minor": 2
}
