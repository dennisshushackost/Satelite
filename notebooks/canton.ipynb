{
 "cells": [
  {
   "cell_type": "code",
   "execution_count": 1,
   "metadata": {},
   "outputs": [],
   "source": [
    "import geopandas as gpd\n",
    "import shapely  \n",
    "\n",
    "# Path:\n",
    "path = \"/workspaces/Satelite/data/aargau.gpkg\"\n",
    "file = gpd.read_file(path)"
   ]
  },
  {
   "cell_type": "code",
   "execution_count": 9,
   "metadata": {},
   "outputs": [],
   "source": [
    "import geopandas as gpd\n",
    "from shapely.geometry import Polygon\n",
    "\n",
    "def simplify_and_filter_geometries(gdf, simplify_tolerance=5, min_area=5000):\n",
    "    \"\"\"\n",
    "    Simplifies the geometries in a GeoDataFrame and removes geometries smaller than a specified area.\n",
    "\n",
    "    Args:\n",
    "    gdf (GeoDataFrame): The GeoDataFrame containing the geometries to process.\n",
    "    simplify_tolerance (float): The tolerance for simplifying the geometries, with a smaller\n",
    "                                number preserving more detail.\n",
    "    min_area (float): The minimum area in square meters for geometries to be retained.\n",
    "\n",
    "    Returns:\n",
    "    GeoDataFrame: A new GeoDataFrame with the simplified and filtered geometries.\n",
    "    \"\"\"\n",
    "    # Simplify geometries\n",
    "    gdf['geometry'] = gdf['geometry'].simplify(tolerance=simplify_tolerance, preserve_topology=True)\n",
    "    \n",
    "    # Filter out small geometries\n",
    "    gdf = gdf[gdf['geometry'].area >= min_area]\n",
    "\n",
    "    return gdf\n"
   ]
  },
  {
   "cell_type": "code",
   "execution_count": 10,
   "metadata": {},
   "outputs": [
    {
     "name": "stderr",
     "output_type": "stream",
     "text": [
      "/home/tfuser/.local/lib/python3.8/site-packages/geopandas/geodataframe.py:1538: SettingWithCopyWarning: \n",
      "A value is trying to be set on a copy of a slice from a DataFrame.\n",
      "Try using .loc[row_indexer,col_indexer] = value instead\n",
      "\n",
      "See the caveats in the documentation: https://pandas.pydata.org/pandas-docs/stable/user_guide/indexing.html#returning-a-view-versus-a-copy\n",
      "  super().__setitem__(key, value)\n",
      "/home/tfuser/.local/lib/python3.8/site-packages/geopandas/geodataframe.py:1538: SettingWithCopyWarning: \n",
      "A value is trying to be set on a copy of a slice from a DataFrame.\n",
      "Try using .loc[row_indexer,col_indexer] = value instead\n",
      "\n",
      "See the caveats in the documentation: https://pandas.pydata.org/pandas-docs/stable/user_guide/indexing.html#returning-a-view-versus-a-copy\n",
      "  super().__setitem__(key, value)\n"
     ]
    }
   ],
   "source": [
    "import geopandas as gpd\n",
    "import numpy as np\n",
    "\n",
    "def filter_hose_like_shapes(gdf, max_aspect_ratio=5, min_compactness=0.1):\n",
    "    \"\"\"\n",
    "    Filters out elongated and non-compact geometries from a GeoDataFrame.\n",
    "\n",
    "    Args:\n",
    "    gdf (GeoDataFrame): GeoDataFrame with the geometries to filter.\n",
    "    max_aspect_ratio (float): Maximum allowed aspect ratio.\n",
    "    min_compactness (float): Minimum allowed compactness.\n",
    "\n",
    "    Returns:\n",
    "    GeoDataFrame: Filtered GeoDataFrame.\n",
    "    \"\"\"\n",
    "    def calculate_aspect_ratio(geometry):\n",
    "        minx, miny, maxx, maxy = geometry.bounds\n",
    "        return (maxx - minx) / (maxy - miny) if (maxy - miny) != 0 else np.inf\n",
    "\n",
    "    def calculate_compactness(geometry):\n",
    "        area = geometry.area\n",
    "        perimeter = geometry.length\n",
    "        return 4 * np.pi * area / (perimeter ** 2) if perimeter != 0 else 0\n",
    "\n",
    "    # Calculate aspect ratio and compactness\n",
    "    gdf['aspect_ratio'] = gdf['geometry'].apply(calculate_aspect_ratio)\n",
    "    gdf['compactness'] = gdf['geometry'].apply(calculate_compactness)\n",
    "\n",
    "    # Apply filters\n",
    "    filtered_gdf = gdf[\n",
    "        (gdf['aspect_ratio'] <= max_aspect_ratio) & \n",
    "        (gdf['compactness'] >= min_compactness)\n",
    "    ]\n",
    "\n",
    "    # Drop auxiliary columns\n",
    "    filtered_gdf = filtered_gdf.drop(columns=['aspect_ratio', 'compactness'])\n",
    "\n",
    "    return filtered_gdf\n",
    "\n",
    "# Example usage\n",
    "path = \"/workspaces/Satelite/data/aargau.gpkg\"\n",
    "file = gpd.read_file(path)\n",
    "processed_file = simplify_and_filter_geometries(file)\n",
    "processed_file = filter_hose_like_shapes(processed_file)"
   ]
  },
  {
   "cell_type": "code",
   "execution_count": 19,
   "metadata": {},
   "outputs": [],
   "source": [
    "import geopandas as gpd\n",
    "import numpy as np\n",
    "\n",
    "def simplify_and_filter_geometries(gdf, simplify_tolerance=5, min_area=5000):\n",
    "    \"\"\"\n",
    "    Simplifies the geometries in a GeoDataFrame and removes geometries smaller than a specified area.\n",
    "\n",
    "    Args:\n",
    "    gdf (GeoDataFrame): The GeoDataFrame containing the geometries to process.\n",
    "    simplify_tolerance (float): The tolerance for simplifying the geometries.\n",
    "    min_area (float): The minimum area in square meters for geometries to be retained.\n",
    "\n",
    "    Returns:\n",
    "    GeoDataFrame: A new GeoDataFrame with the simplified and filtered geometries.\n",
    "    \"\"\"\n",
    "    # Create a copy to ensure we are not modifying a view\n",
    "    gdf = gdf.copy()\n",
    "\n",
    "    # Simplify geometries\n",
    "    gdf['geometry'] = gdf['geometry'].simplify(tolerance=simplify_tolerance, preserve_topology=True)\n",
    "    \n",
    "    # Filter out small geometries using loc to avoid SettingWithCopyWarning\n",
    "    gdf = gdf.loc[gdf['geometry'].area >= min_area]\n",
    "\n",
    "    return gdf\n",
    "\n",
    "# Usage\n",
    "path = \"/workspaces/Satelite/data/aargau.gpkg\"\n",
    "file = gpd.read_file(path)\n",
    "processed_file = simplify_and_filter_geometries(file)\n"
   ]
  },
  {
   "cell_type": "code",
   "execution_count": 20,
   "metadata": {},
   "outputs": [],
   "source": [
    "# Save the result\n",
    "processed_file.to_file(\"/workspaces/Satelite/data/aargau_processed.gpkg\", driver='GPKG')\n"
   ]
  },
  {
   "cell_type": "code",
   "execution_count": null,
   "metadata": {},
   "outputs": [],
   "source": []
  }
 ],
 "metadata": {
  "kernelspec": {
   "display_name": "Python 3",
   "language": "python",
   "name": "python3"
  },
  "language_info": {
   "codemirror_mode": {
    "name": "ipython",
    "version": 3
   },
   "file_extension": ".py",
   "mimetype": "text/x-python",
   "name": "python",
   "nbconvert_exporter": "python",
   "pygments_lexer": "ipython3",
   "version": "3.8.10"
  }
 },
 "nbformat": 4,
 "nbformat_minor": 2
}
