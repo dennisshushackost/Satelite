{
 "cells": [
  {
   "cell_type": "code",
   "execution_count": null,
   "metadata": {},
   "outputs": [],
   "source": []
  },
  {
   "cell_type": "code",
   "execution_count": 3,
   "metadata": {},
   "outputs": [],
   "source": [
    "import geopandas as gpd\n",
    "import rasterio\n",
    "import rasterio.features\n",
    "from rasterio.features import rasterize\n",
    "import numpy as np\n",
    "\n",
    "def create_parcel_mask(parcel_file, satellite_file):\n",
    "    # Read the parcel data using geopandas\n",
    "    parcels = gpd.read_file(parcel_file)\n",
    "\n",
    "    # Read the satellite image using rasterio\n",
    "    with rasterio.open(satellite_file) as src:\n",
    "        satellite_image = src.read()\n",
    "        meta = src.meta.copy()\n",
    "\n",
    "    # Create an empty mask with the same shape as the satellite image\n",
    "    mask = np.zeros((meta['height'], meta['width']), dtype=np.uint8)\n",
    "\n",
    "    # Make sure the parcel data is in the same CRS as the satellite image\n",
    "    if parcels.crs != meta['crs']:\n",
    "        parcels = parcels.to_crs(meta['crs'])\n",
    "\n",
    "    # Rasterize the parcel geometries onto the mask\n",
    "    mask = rasterize(\n",
    "        shapes=parcels.geometry,\n",
    "        out=mask,\n",
    "        transform=meta['transform'],\n",
    "        all_touched=True,\n",
    "        fill=0,\n",
    "        default_value=1\n",
    "    )\n",
    "\n",
    "    # Update the metadata for the mask\n",
    "    meta.update({\n",
    "        'count': 1,\n",
    "        'dtype': 'uint8'\n",
    "    })\n",
    "\n",
    "    return mask, meta\n",
    "\n",
    "# Specify the paths to the parcel and satellite image files\n",
    "parcel_file = \"/workspaces/Satelite/data/parcels/ZH_ZH_parcel_1.gpkg\"\n",
    "satellite_file = \"/workspaces/Satelite/data/satellite/ZH_ZH_upscaled_parcel_1.tif\"\n",
    "\n",
    "# Create the parcel mask\n",
    "parcel_mask, mask_meta = create_parcel_mask(parcel_file, satellite_file)\n",
    "\n",
    "# Save the parcel mask as a new GeoTIFF file\n",
    "mask_file = \"/workspaces/Satelite/data/mask/ZH_ZH_parcel_1_mask.tif\"\n",
    "with rasterio.open(mask_file, 'w', **mask_meta) as dst:\n",
    "    dst.write(parcel_mask, 1)"
   ]
  },
  {
   "cell_type": "code",
   "execution_count": null,
   "metadata": {},
   "outputs": [],
   "source": []
  }
 ],
 "metadata": {
  "kernelspec": {
   "display_name": "Python 3",
   "language": "python",
   "name": "python3"
  },
  "language_info": {
   "codemirror_mode": {
    "name": "ipython",
    "version": 3
   },
   "file_extension": ".py",
   "mimetype": "text/x-python",
   "name": "python",
   "nbconvert_exporter": "python",
   "pygments_lexer": "ipython3",
   "version": "3.8.10"
  }
 },
 "nbformat": 4,
 "nbformat_minor": 2
}
