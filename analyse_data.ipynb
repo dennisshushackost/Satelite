{
 "cells": [
  {
   "cell_type": "code",
   "execution_count": 3,
   "metadata": {},
   "outputs": [
    {
     "name": "stdout",
     "output_type": "stream",
     "text": [
      "Total number of parcels: 1690093\n",
      "Number of parcels <= 40,000: 1655023\n",
      "Percentage of parcels <= 40,000: 97.92%\n"
     ]
    }
   ],
   "source": [
    "import geopandas as gpd\n",
    "import matplotlib.pyplot as plt\n",
    "import seaborn as sns\n",
    "import numpy as np\n",
    "\n",
    "# Load the geopackage\n",
    "gdf = gpd.read_file('/workspaces/Satelite/data/CH_simplified.gpkg')\n",
    "\n",
    "# 1. Histogram of parcel sizes (limited to 40,000)\n",
    "plt.figure(figsize=(10, 6))\n",
    "areas = gdf['geometry'].area\n",
    "areas_limited = areas[areas <= 40000]  # Limit to 40,000\n",
    "sns.histplot(areas_limited, kde=True, bins=30)\n",
    "plt.title('Distribution of Parcel Sizes (up to 40,000)')\n",
    "plt.xlabel('Area')\n",
    "plt.ylabel('Count')\n",
    "plt.xlim(0, 40000)\n",
    "plt.savefig('parcel_sizes_histogram_limited.png')\n",
    "plt.close()\n",
    "\n",
    "# Print some statistics\n",
    "total_parcels = len(areas)\n",
    "parcels_within_limit = len(areas_limited)\n",
    "percentage_within = (parcels_within_limit / total_parcels) * 100\n",
    "\n",
    "print(f\"Total number of parcels: {total_parcels}\")\n",
    "print(f\"Number of parcels <= 40,000: {parcels_within_limit}\")\n",
    "print(f\"Percentage of parcels <= 40,000: {percentage_within:.2f}%\")\n"
   ]
  },
  {
   "cell_type": "code",
   "execution_count": null,
   "metadata": {},
   "outputs": [],
   "source": []
  }
 ],
 "metadata": {
  "kernelspec": {
   "display_name": "Python 3",
   "language": "python",
   "name": "python3"
  },
  "language_info": {
   "codemirror_mode": {
    "name": "ipython",
    "version": 3
   },
   "file_extension": ".py",
   "mimetype": "text/x-python",
   "name": "python",
   "nbconvert_exporter": "python",
   "pygments_lexer": "ipython3",
   "version": "3.8.10"
  }
 },
 "nbformat": 4,
 "nbformat_minor": 2
}
